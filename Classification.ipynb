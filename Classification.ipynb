{
 "cells": [
  {
   "cell_type": "code",
   "execution_count": 9,
   "metadata": {},
   "outputs": [],
   "source": [
    "#############################importing libraries and data set\n",
    "import numpy as np\n",
    "import pandas as pd\n",
    "import matplotlib.pyplot as plt\n",
    "import seaborn as sns\n",
    "plt.rc('font', size = 14)\n",
    "sns.set(style='white')\n",
    "\n",
    "raw = pd.read_csv('income.csv')\n",
    "shape = raw.shape\n",
    "%matplotlib inline"
   ]
  },
  {
   "cell_type": "code",
   "execution_count": 10,
   "metadata": {},
   "outputs": [
    {
     "name": "stdout",
     "output_type": "stream",
     "text": [
      "% of rich and poor is : 24.89307383707437 , 75.10692616292563\n"
     ]
    },
    {
     "data": {
      "image/png": "[encoded data removed]",
      "text/plain": [
       "<Figure size 432x288 with 1 Axes>"
      ]
     },
     "metadata": {
      "needs_background": "light"
     },
     "output_type": "display_data"
    }
   ],
   "source": [
    "############################preprocessing\n",
    "raw.isna().any()\n",
    "raw.dropna()\n",
    "#dependent columns deletion\n",
    "raw.drop(columns=['education', 'relationship'], inplace=True)\n",
    "#renaming y variable to Income\n",
    "raw = raw.rename(columns = {'Other' : 'Income'})\n",
    "#dtypes of columns\n",
    "dty =raw.dtypes\n",
    "#uniques values in each columns\n",
    "uni = [raw[col].unique() for col in raw]\n",
    "#removing rows containig ' ?' value in columns\n",
    "for col in ['workclass', 'occupation', 'native-country']:\n",
    "    raw = raw[raw[col] != ' ?']\n",
    "#uniques values in each columns again all ? are gone now\n",
    "uni = [raw[col].unique() for col in raw]\n",
    "del(col)\n",
    "#######################finding relation between varibles now\n",
    "#changin >50 to 1 and <=50 to 0 this is coz\n",
    "#we can directly see the relation with Income now \n",
    "rcol = {'Income' : {' <=50K':0, ' >50K': 1 }}\n",
    "data = raw.replace(rcol, regex=True)\n",
    "y = data['Income']\n",
    "y.value_counts()    \n",
    "sns.countplot(x=y, data=data, palette='hls')\n",
    "#calculating relationshp\n",
    "rich = len(data[y == 1])\n",
    "poor = len(data[y == 0])\n",
    "print('% of rich and poor is : '+str(rich/len(y)*100)+' , '+str(poor/len(y)*100))"
   ]
  },
  {
   "cell_type": "code",
   "execution_count": 11,
   "metadata": {},
   "outputs": [],
   "source": [
    "################Label encoding\n",
    "cat_vars = ['workclass', 'marital-status', 'occupation', 'race', 'sex','native-country']\n",
    "\n",
    "from sklearn.preprocessing import LabelEncoder\n",
    "LEX = LabelEncoder()\n",
    "for col in ['workclass', 'marital-status', 'occupation', 'race', 'sex','native-country']:\n",
    "    data.loc[:, col] = LEX.fit_transform(data.loc[:, col])\n",
    "dty =data.dtypes"
   ]
  },
  {
   "cell_type": "code",
   "execution_count": 12,
   "metadata": {},
   "outputs": [],
   "source": [
    "################One hot encoding\n",
    "for var in cat_vars:\n",
    "    cat_list='var'+'_'+var\n",
    "    cat_list = pd.get_dummies(data[var], prefix=var)\n",
    "    df=data.join(cat_list)\n",
    "    data = df\n",
    "\n",
    "#droping original cat columns\n",
    "data.drop(columns=cat_vars, inplace=True)"
   ]
  },
  {
   "cell_type": "code",
   "execution_count": 13,
   "metadata": {},
   "outputs": [],
   "source": [
    "###################### splitting the data\n",
    "X = data.loc[:, data.columns != 'Income']\n",
    "\n",
    "from sklearn.model_selection import train_test_split\n",
    "X_train, X_test, y_train, y_test = train_test_split(X, y, random_state=0)"
   ]
  },
  {
   "cell_type": "code",
   "execution_count": 6,
   "metadata": {},
   "outputs": [],
   "source": [
    "#-------------------------------naive bayes-----------------------------\n",
    "################### model buildig type 1\n",
    "\"\"\"no feature scaling because feature scaling will reduce the accuracy and c-matrix\n",
    "from sklearn.preprocessing import StandardScaler\n",
    "sc = StandardScaler()\n",
    "X_train = sc.fit_transform(X_train)\n",
    "X_test = sc.transform(X_test) \n",
    "#at second case we just transformed coz its already splitted\n",
    "\"\"\"\n",
    "from sklearn.naive_bayes import GaussianNB\n",
    "GNB = GaussianNB()\n",
    "GNB.fit(X_train, y_train)\n",
    "\n",
    "y_pred = GNB.predict(X_test)"
   ]
  },
  {
   "cell_type": "code",
   "execution_count": 7,
   "metadata": {},
   "outputs": [
    {
     "name": "stdout",
     "output_type": "stream",
     "text": [
      "[[5416  315]\n",
      " [1290  520]]\n",
      "0.7871635061662909\n",
      "             precision    recall  f1-score   support\n",
      "\n",
      "          0       0.81      0.95      0.87      5731\n",
      "          1       0.62      0.29      0.39      1810\n",
      "\n",
      "avg / total       0.76      0.79      0.76      7541\n",
      "\n"
     ]
    }
   ],
   "source": [
    "#################### predecting result\n",
    "from sklearn import metrics\n",
    "cm = metrics.confusion_matrix(y_test, y_pred)\n",
    "accuracy = metrics.accuracy_score(y_test, y_pred)\n",
    "acc = metrics.classification_report(y_test, y_pred)\n",
    "print(cm)\n",
    "print(accuracy)\n",
    "print(acc)"
   ]
  },
  {
   "cell_type": "code",
   "execution_count": 8,
   "metadata": {},
   "outputs": [
    {
     "data": {
      "image/png": "[encoded data removed]",
      "text/plain": [
       "<Figure size 432x288 with 1 Axes>"
      ]
     },
     "metadata": {
      "needs_background": "light"
     },
     "output_type": "display_data"
    }
   ],
   "source": [
    "################## ROC Curve\n",
    "Logit_roc_Dtree = metrics.roc_auc_score(y_test, GNB.predict_proba(X_test)[:,1])\n",
    "fpr, tpr, thresholds = metrics.roc_curve(y_test, GNB.predict_proba(X_test)[:,1])\n",
    "plt.figure()\n",
    "plt.plot(fpr, tpr, label='GNB (area = %0.2f)' % Logit_roc_Dtree)\n",
    "plt.plot([0,1], [0,1], 'r--')\n",
    "plt.xlim([0.0, 1.0])\n",
    "plt.ylim([0.0, 1.05])\n",
    "plt.xlabel('False + rate')\n",
    "plt.ylabel('True - rate')\n",
    "plt.title('ROC_GNB')\n",
    "plt.legend(loc=\"lower right\")\n",
    "plt.savefig('ROC_GNB')\n",
    "plt.show()"
   ]
  },
  {
   "cell_type": "markdown",
   "metadata": {},
   "source": [
    "<h5>this is with feature scaling</h5>"
   ]
  },
  {
   "cell_type": "code",
   "execution_count": 14,
   "metadata": {},
   "outputs": [],
   "source": [
    "#-------------------------------naive bayes-----------------------------\n",
    "################### model buildig type 1\n",
    "from sklearn.preprocessing import StandardScaler\n",
    "sc = StandardScaler()\n",
    "X_train = sc.fit_transform(X_train)\n",
    "X_test = sc.transform(X_test) \n",
    "\n",
    "from sklearn.naive_bayes import GaussianNB\n",
    "GNB = GaussianNB()\n",
    "GNB.fit(X_train, y_train)\n",
    "\n",
    "y_pred = GNB.predict(X_test)"
   ]
  },
  {
   "cell_type": "code",
   "execution_count": 15,
   "metadata": {},
   "outputs": [
    {
     "name": "stdout",
     "output_type": "stream",
     "text": [
      "[[1160 4571]\n",
      " [  54 1756]]\n",
      "0.38668611589974805\n",
      "             precision    recall  f1-score   support\n",
      "\n",
      "          0       0.96      0.20      0.33      5731\n",
      "          1       0.28      0.97      0.43      1810\n",
      "\n",
      "avg / total       0.79      0.39      0.36      7541\n",
      "\n"
     ]
    }
   ],
   "source": [
    "#################### predecting result\n",
    "from sklearn import metrics\n",
    "cm = metrics.confusion_matrix(y_test, y_pred)\n",
    "accuracy = metrics.accuracy_score(y_test, y_pred)\n",
    "acc = metrics.classification_report(y_test, y_pred)\n",
    "print(cm)\n",
    "print(accuracy)\n",
    "print(acc)"
   ]
  },
  {
   "cell_type": "code",
   "execution_count": 16,
   "metadata": {},
   "outputs": [
    {
     "data": {
      "image/png": "[encoded data removed]",
      "text/plain": [
       "<Figure size 432x288 with 1 Axes>"
      ]
     },
     "metadata": {
      "needs_background": "light"
     },
     "output_type": "display_data"
    }
   ],
   "source": [
    "################## ROC Curve\n",
    "Logit_roc_Dtree = metrics.roc_auc_score(y_test, GNB.predict_proba(X_test)[:,1])\n",
    "fpr, tpr, thresholds = metrics.roc_curve(y_test, GNB.predict_proba(X_test)[:,1])\n",
    "plt.figure()\n",
    "plt.plot(fpr, tpr, label='GNB (area = %0.2f)' % Logit_roc_Dtree)\n",
    "plt.plot([0,1], [0,1], 'r--')\n",
    "plt.xlim([0.0, 1.0])\n",
    "plt.ylim([0.0, 1.05])\n",
    "plt.xlabel('False + rate')\n",
    "plt.ylabel('True - rate')\n",
    "plt.title('ROC_GNB')\n",
    "plt.legend(loc=\"lower right\")\n",
    "plt.savefig('ROC_GNB')\n",
    "plt.show()"
   ]
  },
  {
   "cell_type": "code",
   "execution_count": null,
   "metadata": {},
   "outputs": [],
   "source": []
  },
  {
   "cell_type": "code",
   "execution_count": null,
   "metadata": {},
   "outputs": [],
   "source": []
  },
  {
   "cell_type": "code",
   "execution_count": null,
   "metadata": {},
   "outputs": [],
   "source": []
  }
 ],
 "metadata": {
  "kernelspec": {
   "display_name": "Python 3",
   "language": "python",
   "name": "python3"
  },
  "language_info": {
   "codemirror_mode": {
    "name": "ipython",
    "version": 3
   },
   "file_extension": ".py",
   "mimetype": "text/x-python",
   "name": "python",
   "nbconvert_exporter": "python",
   "pygments_lexer": "ipython3",
   "version": "3.6.5"
  }
 },
 "nbformat": 4,
 "nbformat_minor": 2
}
